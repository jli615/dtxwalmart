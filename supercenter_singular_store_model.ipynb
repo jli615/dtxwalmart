{
 "cells": [
  {
   "cell_type": "code",
   "execution_count": 1,
   "metadata": {},
   "outputs": [],
   "source": [
    "import pandas as pd\n",
    "import numpy as np\n",
    "import matplotlib.pyplot as plt\n",
    "pd.set_option('display.max_rows', 150)"
   ]
  },
  {
   "cell_type": "code",
   "execution_count": 2,
   "metadata": {},
   "outputs": [],
   "source": [
    "from sklearn.model_selection import train_test_split\n",
    "from sklearn.metrics import mean_squared_error\n",
    "from sklearn.ensemble import RandomForestRegressor"
   ]
  },
  {
   "cell_type": "markdown",
   "metadata": {},
   "source": [
    "## Store 7 Model"
   ]
  },
  {
   "cell_type": "code",
   "execution_count": 6,
   "metadata": {},
   "outputs": [
    {
     "data": {
      "text/html": [
       "<div>\n",
       "<style scoped>\n",
       "    .dataframe tbody tr th:only-of-type {\n",
       "        vertical-align: middle;\n",
       "    }\n",
       "\n",
       "    .dataframe tbody tr th {\n",
       "        vertical-align: top;\n",
       "    }\n",
       "\n",
       "    .dataframe thead th {\n",
       "        text-align: right;\n",
       "    }\n",
       "</style>\n",
       "<table border=\"1\" class=\"dataframe\">\n",
       "  <thead>\n",
       "    <tr style=\"text-align: right;\">\n",
       "      <th></th>\n",
       "      <th>Location ID</th>\n",
       "      <th>Tonnage</th>\n",
       "      <th>Days Since Last Pickup</th>\n",
       "      <th>Last Pickup Tonnage</th>\n",
       "      <th>Second Last Pickup Tonnage</th>\n",
       "      <th>Third Last Pickup Tonnage</th>\n",
       "      <th>Weekdays Since Last Pickup</th>\n",
       "      <th>Weekend Days Since Last Pickup</th>\n",
       "      <th>Days Before Last Pickup</th>\n",
       "      <th>Days Before Second Last Pickup</th>\n",
       "      <th>Days Before Third Last Pickup</th>\n",
       "      <th>Month</th>\n",
       "    </tr>\n",
       "  </thead>\n",
       "  <tbody>\n",
       "    <tr>\n",
       "      <th>4</th>\n",
       "      <td>1</td>\n",
       "      <td>6.69</td>\n",
       "      <td>10.0</td>\n",
       "      <td>5.61</td>\n",
       "      <td>5.32</td>\n",
       "      <td>9.15</td>\n",
       "      <td>6.0</td>\n",
       "      <td>6.0</td>\n",
       "      <td>7.0</td>\n",
       "      <td>11.0</td>\n",
       "      <td>3.0</td>\n",
       "      <td>3</td>\n",
       "    </tr>\n",
       "    <tr>\n",
       "      <th>5</th>\n",
       "      <td>1</td>\n",
       "      <td>5.86</td>\n",
       "      <td>9.0</td>\n",
       "      <td>6.69</td>\n",
       "      <td>5.61</td>\n",
       "      <td>5.32</td>\n",
       "      <td>7.0</td>\n",
       "      <td>3.0</td>\n",
       "      <td>10.0</td>\n",
       "      <td>7.0</td>\n",
       "      <td>11.0</td>\n",
       "      <td>3</td>\n",
       "    </tr>\n",
       "    <tr>\n",
       "      <th>6</th>\n",
       "      <td>1</td>\n",
       "      <td>7.59</td>\n",
       "      <td>12.0</td>\n",
       "      <td>5.86</td>\n",
       "      <td>6.69</td>\n",
       "      <td>5.61</td>\n",
       "      <td>8.0</td>\n",
       "      <td>6.0</td>\n",
       "      <td>9.0</td>\n",
       "      <td>10.0</td>\n",
       "      <td>7.0</td>\n",
       "      <td>3</td>\n",
       "    </tr>\n",
       "    <tr>\n",
       "      <th>7</th>\n",
       "      <td>1</td>\n",
       "      <td>4.76</td>\n",
       "      <td>7.0</td>\n",
       "      <td>7.59</td>\n",
       "      <td>5.86</td>\n",
       "      <td>6.69</td>\n",
       "      <td>5.0</td>\n",
       "      <td>3.0</td>\n",
       "      <td>12.0</td>\n",
       "      <td>9.0</td>\n",
       "      <td>10.0</td>\n",
       "      <td>4</td>\n",
       "    </tr>\n",
       "    <tr>\n",
       "      <th>8</th>\n",
       "      <td>1</td>\n",
       "      <td>6.97</td>\n",
       "      <td>9.0</td>\n",
       "      <td>4.76</td>\n",
       "      <td>7.59</td>\n",
       "      <td>5.86</td>\n",
       "      <td>7.0</td>\n",
       "      <td>3.0</td>\n",
       "      <td>7.0</td>\n",
       "      <td>12.0</td>\n",
       "      <td>9.0</td>\n",
       "      <td>4</td>\n",
       "    </tr>\n",
       "  </tbody>\n",
       "</table>\n",
       "</div>"
      ],
      "text/plain": [
       "   Location ID  Tonnage  Days Since Last Pickup  Last Pickup Tonnage  \\\n",
       "4            1     6.69                    10.0                 5.61   \n",
       "5            1     5.86                     9.0                 6.69   \n",
       "6            1     7.59                    12.0                 5.86   \n",
       "7            1     4.76                     7.0                 7.59   \n",
       "8            1     6.97                     9.0                 4.76   \n",
       "\n",
       "   Second Last Pickup Tonnage  Third Last Pickup Tonnage  \\\n",
       "4                        5.32                       9.15   \n",
       "5                        5.61                       5.32   \n",
       "6                        6.69                       5.61   \n",
       "7                        5.86                       6.69   \n",
       "8                        7.59                       5.86   \n",
       "\n",
       "   Weekdays Since Last Pickup  Weekend Days Since Last Pickup  \\\n",
       "4                         6.0                             6.0   \n",
       "5                         7.0                             3.0   \n",
       "6                         8.0                             6.0   \n",
       "7                         5.0                             3.0   \n",
       "8                         7.0                             3.0   \n",
       "\n",
       "   Days Before Last Pickup  Days Before Second Last Pickup  \\\n",
       "4                      7.0                            11.0   \n",
       "5                     10.0                             7.0   \n",
       "6                      9.0                            10.0   \n",
       "7                     12.0                             9.0   \n",
       "8                      7.0                            12.0   \n",
       "\n",
       "   Days Before Third Last Pickup  Month  \n",
       "4                            3.0      3  \n",
       "5                           11.0      3  \n",
       "6                            7.0      3  \n",
       "7                           10.0      4  \n",
       "8                            9.0      4  "
      ]
     },
     "execution_count": 6,
     "metadata": {},
     "output_type": "execute_result"
    }
   ],
   "source": [
    "df = pd.read_csv('/Users/keon/Desktop/walmart2/dtxwalmart/preprocessing_and_filtering/processed_data.csv')\n",
    "df.drop(columns=['Unnamed: 0', 'Zip code', 'State', 'Completed Date', 'Latitude', 'Longitude'], inplace=True)\n",
    "df = df.dropna()\n",
    "df.head()"
   ]
  },
  {
   "cell_type": "code",
   "execution_count": 7,
   "metadata": {},
   "outputs": [
    {
     "data": {
      "text/plain": [
       "(108, 12)"
      ]
     },
     "execution_count": 7,
     "metadata": {},
     "output_type": "execute_result"
    }
   ],
   "source": [
    "store_7 = df[df['Location ID'] == 7]\n",
    "store_7.head()\n",
    "store_7.shape"
   ]
  },
  {
   "cell_type": "code",
   "execution_count": 11,
   "metadata": {},
   "outputs": [
    {
     "data": {
      "image/png": "[encoded data removed]",
      "text/plain": [
       "<Figure size 640x480 with 1 Axes>"
      ]
     },
     "metadata": {},
     "output_type": "display_data"
    }
   ],
   "source": [
    "X = store_7.drop(columns=['Tonnage'])\n",
    "y = store_7['Tonnage']\n",
    "\n",
    "random_forest_model = RandomForestRegressor(n_estimators=100, random_state=0)\n",
    "\n",
    "# testing to see which train/test split is optimal\n",
    "test_sizes = []\n",
    "mses = []\n",
    "\n",
    "for i in range(5, 30):\n",
    "    test_size = i / 100\n",
    "    X_train, X_test, y_train, y_test = train_test_split(X, y, test_size=test_size, shuffle=False)\n",
    "    random_forest_model.fit(X_train, y_train)\n",
    "    y_pred = random_forest_model.predict(X_test)\n",
    "    mse = mean_squared_error(y_test, y_pred)\n",
    "    test_sizes.append(test_size)\n",
    "    mses.append(mse)\n",
    "    \n",
    "# plotting train/test split vs mse\n",
    "plt.plot(test_sizes, mses, marker='o')\n",
    "plt.title('Mean Squared Error for Different Test Sizes')\n",
    "plt.xlabel('Test Size')\n",
    "plt.ylabel('Mean Squared Error')\n",
    "plt.grid(True)\n",
    "plt.show()"
   ]
  }
 ],
 "metadata": {
  "kernelspec": {
   "display_name": "Python 3",
   "language": "python",
   "name": "python3"
  },
  "language_info": {
   "codemirror_mode": {
    "name": "ipython",
    "version": 3
   },
   "file_extension": ".py",
   "mimetype": "text/x-python",
   "name": "python",
   "nbconvert_exporter": "python",
   "pygments_lexer": "ipython3",
   "version": "3.12.2"
  }
 },
 "nbformat": 4,
 "nbformat_minor": 2
}
